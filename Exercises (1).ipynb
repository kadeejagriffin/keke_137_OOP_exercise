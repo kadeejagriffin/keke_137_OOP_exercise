{
 "cells": [
  {
   "cell_type": "markdown",
   "metadata": {},
   "source": [
    "#### Exercise 1 - Class Inheritance"
   ]
  },
  {
   "cell_type": "markdown",
   "metadata": {},
   "source": [
    "Create an Employee class that sets an employee's first name, last name, job title, salary, and email. The Employee class should have a class attribute for the raise amount set to 5% (1.05). Create a method that will apply the raise to an employee's salary."
   ]
  },
  {
   "cell_type": "code",
   "execution_count": 44,
   "metadata": {},
   "outputs": [
    {
     "name": "stdout",
     "output_type": "stream",
     "text": [
      "Kadeeja Griffin\n",
      "Congratulations on the raise, Kadeeja Griffin. Your new salary is $84000.0\n",
      "{'first_name': 'Kadeeja', 'last_name': 'Griffin', 'job_title': 'Sales', 'salary': 84000.0, 'email': 'kgriffin@funnyemail.com'}\n"
     ]
    }
   ],
   "source": [
    "# Write the Employee Parent Class Here\n",
    "\n",
    "class Employee:\n",
    "    raise_amount = 1.05\n",
    "    def __init__(self, first_name, last_name, job_title, salary):\n",
    "        self.first_name = first_name\n",
    "        self.last_name = last_name\n",
    "        self.job_title = job_title\n",
    "        self.salary = salary\n",
    "        self.email = first_name[0].lower() + last_name.lower() + '@funnyemail.com'\n",
    "        \n",
    "    def __str__(self):\n",
    "        return (f\"{self.first_name} {self.last_name}\")\n",
    "    \n",
    "    def apply_raise(self):\n",
    "        self.salary = float(\"{0:.2f}\".format(self.salary * Employee.raise_amount))\n",
    "        print(f\"Congratulations on the raise, {self}. Your new salary is ${self.salary}\")\n",
    "    \n",
    "emp_1 = Employee('Kadeeja', 'Griffin', 'Sales', 80000)\n",
    "print(emp_1)\n",
    "emp_1.apply_raise()\n",
    "print(emp_1.__dict__)\n"
   ]
  },
  {
   "cell_type": "markdown",
   "metadata": {},
   "source": [
    "Create two more classes that inherit from the Employee class. One for Sales and one for Development. Both of these classes will have the same attributes as the Employee.<br>\n",
    "- For the Sales employees, add a phone number attribute on instantiation using the super method. \n",
    "- Create a method on the Sales class that will \"Send a Follow Up Email\". It should take in a customer name and \"send\" aka print a formatted email \"Dear *customer*, Thank you for your interest in our product. Please let me know if you have any questions. My email is *email* or my phone number is *phone number*. Thanks, *full name*\"\n",
    "- Create a method on the Development class called code that will print out \"*full name* is writing code\"."
   ]
  },
  {
   "cell_type": "code",
   "execution_count": 45,
   "metadata": {},
   "outputs": [],
   "source": [
    "# Write the Sales child Class Here\n",
    "\n",
    "class Sales(Employee):\n",
    "    def __init__(self, first_name, last_name, job_title, salary, phone):\n",
    "        super().__init__(first_name, last_name, job_title, salary)\n",
    "        self.phone = phone\n",
    "        \n",
    "    def send_follow_up(self, customer_name):\n",
    "        print(f\"\"\"\n",
    "            Dear {customer_name},\n",
    "            \n",
    "            Thank you for your interest in our product. Please let me know if you have any questions. My email is {self.email} or my phone number is {self.phone}. \n",
    "            \n",
    "            Thanks, \n",
    "            {self}\n",
    "        \"\"\")\n",
    "            \n",
    "    \n",
    "\n",
    "# Write the Development child Class Here\n",
    "class Development(Employee):\n",
    "        \n",
    "    def code(self):\n",
    "        print(f\"{self.first_name} is writing code.\")\n"
   ]
  },
  {
   "cell_type": "markdown",
   "metadata": {},
   "source": [
    "- Create an instance of a Sales Employee with a salary of $50,000.\n",
    "- Send follow up emails to \"Mike O'Neil\" and \"Hannah Stern\"\n",
    "- Give the employee a raise and print the salary"
   ]
  },
  {
   "cell_type": "code",
   "execution_count": 46,
   "metadata": {},
   "outputs": [
    {
     "name": "stdout",
     "output_type": "stream",
     "text": [
      "Michael Scott\n"
     ]
    }
   ],
   "source": [
    "#Create the instance\n",
    "michael = Sales('Michael', \"Scott\", 'Regional Manager', 80000, 777-777-777)\n",
    "print(michael)\n"
   ]
  },
  {
   "cell_type": "code",
   "execution_count": 47,
   "metadata": {},
   "outputs": [
    {
     "name": "stdout",
     "output_type": "stream",
     "text": [
      "\n",
      "            Dear Mike O'Neal,\n",
      "            \n",
      "            Thank you for your interest in our product. Please let me know if you have any questions. My email is mscott@funnyemail.com or my phone number is -777. \n",
      "            \n",
      "            Thanks, \n",
      "            Michael Scott\n",
      "        \n"
     ]
    }
   ],
   "source": [
    "# Send follow up to Mike\n",
    "michael.send_follow_up(\"Mike O'Neal\")\n"
   ]
  },
  {
   "cell_type": "code",
   "execution_count": 49,
   "metadata": {},
   "outputs": [
    {
     "name": "stdout",
     "output_type": "stream",
     "text": [
      "\n",
      "            Dear Hannah Stern,\n",
      "            \n",
      "            Thank you for your interest in our product. Please let me know if you have any questions. My email is mscott@funnyemail.com or my phone number is -777. \n",
      "            \n",
      "            Thanks, \n",
      "            Michael Scott\n",
      "        \n"
     ]
    }
   ],
   "source": [
    "# Send follow up to Hannah\n",
    "michael.send_follow_up('Hannah Stern')"
   ]
  },
  {
   "cell_type": "code",
   "execution_count": 52,
   "metadata": {},
   "outputs": [
    {
     "name": "stdout",
     "output_type": "stream",
     "text": [
      "Congratulations on the raise, Michael Scott. Your new salary is $84000.0\n"
     ]
    }
   ],
   "source": [
    "# Give the sales employee a raise\n",
    "michael.apply_raise()"
   ]
  },
  {
   "cell_type": "markdown",
   "metadata": {},
   "source": [
    "- Create an instance of a Development Employee with a salary of $100,000\n",
    "- Write some code with this employee\n",
    "- Give the employee a raise and print the salary"
   ]
  },
  {
   "cell_type": "code",
   "execution_count": 53,
   "metadata": {},
   "outputs": [
    {
     "name": "stdout",
     "output_type": "stream",
     "text": [
      "ryan howard\n"
     ]
    }
   ],
   "source": [
    "# Create the instance\n",
    "ryan = Development('ryan', 'howard', 'CTO', 100000)\n",
    "print(ryan)"
   ]
  },
  {
   "cell_type": "code",
   "execution_count": 54,
   "metadata": {},
   "outputs": [
    {
     "name": "stdout",
     "output_type": "stream",
     "text": [
      "ryan is writing code.\n"
     ]
    }
   ],
   "source": [
    "# Write some code (call code method)\n",
    "ryan.code()"
   ]
  },
  {
   "cell_type": "code",
   "execution_count": 55,
   "metadata": {},
   "outputs": [
    {
     "name": "stdout",
     "output_type": "stream",
     "text": [
      "Congratulations on the raise, ryan howard. Your new salary is $105000.0\n"
     ]
    }
   ],
   "source": [
    "# Give the dev employee a raise\n",
    "ryan.apply_raise()"
   ]
  },
  {
   "cell_type": "markdown",
   "metadata": {},
   "source": [
    "#### Exercise 2 - Importing Modules"
   ]
  },
  {
   "cell_type": "markdown",
   "metadata": {},
   "source": [
    "In VS Code, create a module titled `geometry` and add two functions in there. One that will calculate the area of a circle given a radius. The second will find the hypotenuse of a right angle given the two sides. Import the module or the functions from the module and use it to find the answers to the below questions"
   ]
  },
  {
   "cell_type": "markdown",
   "metadata": {},
   "source": [
    "What is the area of a circle with a radius of 7cm?"
   ]
  },
  {
   "cell_type": "code",
   "execution_count": null,
   "metadata": {},
   "outputs": [],
   "source": []
  },
  {
   "cell_type": "markdown",
   "metadata": {},
   "source": [
    "What is the hypotenuse of a right angle with sides of 3in and 4in?"
   ]
  },
  {
   "cell_type": "code",
   "execution_count": null,
   "metadata": {},
   "outputs": [],
   "source": []
  }
 ],
 "metadata": {
  "kernelspec": {
   "display_name": "Python 3 (ipykernel)",
   "language": "python",
   "name": "python3"
  },
  "language_info": {
   "codemirror_mode": {
    "name": "ipython",
    "version": 3
   },
   "file_extension": ".py",
   "mimetype": "text/x-python",
   "name": "python",
   "nbconvert_exporter": "python",
   "pygments_lexer": "ipython3",
   "version": "3.11.6"
  }
 },
 "nbformat": 4,
 "nbformat_minor": 4
}
