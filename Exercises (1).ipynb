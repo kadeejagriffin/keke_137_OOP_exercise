{
 "cells": [
  {
   "cell_type": "markdown",
   "metadata": {},
   "source": [
    "#### Exercise 1 - Class Inheritance"
   ]
  },
  {
   "cell_type": "markdown",
   "metadata": {},
   "source": [
    "Create an Employee class that sets an employee's first name, last name, job title, salary, and email. The Employee class should have a class attribute for the raise amount set to 5% (1.05). Create a method that will apply the raise to an employee's salary."
   ]
  },
  {
   "cell_type": "code",
   "execution_count": 66,
   "metadata": {},
   "outputs": [],
   "source": [
    "# Write the Employee Parent Class Here\n",
    "\n",
    "class Employee:\n",
    "    def __init__(self, first_name, last_name, job_title, salary, email):\n",
    "        self.first_name = first_name\n",
    "        self.last_name = last_name\n",
    "        self.job_title = job_title\n",
    "        self.salary = salary\n",
    "        self.email = email\n",
    "        self.raise_amount = 1.05\n",
    "        \n",
    "    def __str__(self):\n",
    "        return (f\"{self.first_name} {self.last_name} {self.job_title} {self.salary} {self.email}\")\n",
    "    \n",
    "    def get_pay_stub(self):\n",
    "        amount = float(\"{0:.2f}\".format(self.salary*self.raise_amount))\n",
    "        print(amount)\n",
    "        \n",
    "    def apply_raise(self):\n",
    "        \n",
    "        \n",
    "    \n",
    "    \n",
    "emp_1 = Employee('Kadeeja', 'Griffin', 'Sales', 80000, '@funnyemail.com')\n",
    "    "
   ]
  },
  {
   "cell_type": "markdown",
   "metadata": {},
   "source": [
    "Create two more classes that inherit from the Employee class. One for Sales and one for Development. Both of these classes will have the same attributes as the Employee.<br>\n",
    "- For the Sales employees, add a phone number attribute on instantiation using the super method. \n",
    "- Create a method on the Sales class that will \"Send a Follow Up Email\". It should take in a customer name and \"send\" aka print a formatted email \"Dear *customer*, Thank you for your interest in our product. Please let me know if you have any questions. My email is *email* or my phone number is *phone number*. Thanks, *full name*\"\n",
    "- Create a method on the Development class called code that will print out \"*full name* is writing code\"."
   ]
  },
  {
   "cell_type": "code",
   "execution_count": 30,
   "metadata": {},
   "outputs": [],
   "source": [
    "# Write the Sales child Class Here\n",
    "\n",
    "class Sales(Employee):\n",
    "    def __init__(self, first_name, last_name, job_title, salary, email, phone):\n",
    "        super().__init__(first_name, last_name, job_title, salary, email)\n",
    "        self.phone = phone\n",
    "        \n",
    "        \n",
    "    def email(self, customer):\n",
    "        print(f\"Dear {customer}, Thank you for your interest in our product. Please let me know if you have any questions. My email is {self.email} or my phone number is {self.phone}. Thanks, {self.first_name} {self.last_name}\")\n",
    "            \n",
    "    \n",
    "\n",
    "# Write the Development child Class Here\n",
    "class Development(Employee):\n",
    "    def __init__(self, first_name, last_name, job_title, salary, email):\n",
    "        super().__init__(first_name, last_name, job_title, salary, email)\n",
    "        \n",
    "    def code(self):\n",
    "        print(f\"{self.first_name} {self.last_name} is writing code.\")\n",
    "        \n",
    "        \n",
    "\n",
    "        \n",
    "        \n",
    "        \n",
    "\n",
    "emp_2 = Sales('Kadeeja', 'Griffin', 'Sales', 50000, '@funnyemail.com', '7777777')\n",
    "\n",
    "emp_3 = Development('Kadeeja', 'Griffin', 'Sales', 80000, '@funnyemail.com')\n",
    "\n"
   ]
  },
  {
   "cell_type": "markdown",
   "metadata": {},
   "source": [
    "- Create an instance of a Sales Employee with a salary of $50,000.\n",
    "- Send follow up emails to \"Mike O'Neil\" and \"Hannah Stern\"\n",
    "- Give the employee a raise and print the salary"
   ]
  },
  {
   "cell_type": "code",
   "execution_count": 71,
   "metadata": {},
   "outputs": [],
   "source": [
    "#Create the instance\n",
    "sales_employee = Sales('Mike', \"O'Neal\", 'Sales', 50000, 'Mike.O@employee.com', 3333333333)\n",
    "sales_employee2 = Sales('Mike', \"O'Neal\", 'Sales', 50000, 'Hannah.S@employee.com', 2222222222)\n"
   ]
  },
  {
   "cell_type": "code",
   "execution_count": 70,
   "metadata": {},
   "outputs": [
    {
     "name": "stdout",
     "output_type": "stream",
     "text": [
      "Mike O'Neal Sales 50000 Mike.O@employee.com\n",
      "Mike.O@employee.com\n",
      "This is a follow up email for Mike O'Neal Sales 50000 Mike.O@employee.com.\n"
     ]
    }
   ],
   "source": [
    "# Send follow up to Mike\n",
    "print(sales_employee)\n",
    "print(f\"This is a follow up email for {sales_employee}.\")"
   ]
  },
  {
   "cell_type": "code",
   "execution_count": 72,
   "metadata": {},
   "outputs": [
    {
     "name": "stdout",
     "output_type": "stream",
     "text": [
      "Mike O'Neal Sales 50000 Hannah.S@employee.com\n",
      "Hannah.S@employee.com\n",
      "This is a follow up email for Mike O'Neal Sales 50000 Hannah.S@employee.com.\n"
     ]
    }
   ],
   "source": [
    "# Send follow up to Hannah\n",
    "print(sales_employee2)\n",
    "print(sales_employee2.email)\n",
    "print(f\"This is a follow up email for {sales_employee2}.\")"
   ]
  },
  {
   "cell_type": "code",
   "execution_count": 15,
   "metadata": {},
   "outputs": [],
   "source": [
    "# Give the sales employee a raise"
   ]
  },
  {
   "cell_type": "markdown",
   "metadata": {},
   "source": [
    "- Create an instance of a Development Employee with a salary of $100,000\n",
    "- Write some code with this employee\n",
    "- Give the employee a raise and print the salary"
   ]
  },
  {
   "cell_type": "code",
   "execution_count": 16,
   "metadata": {},
   "outputs": [],
   "source": [
    "# Create the instance"
   ]
  },
  {
   "cell_type": "code",
   "execution_count": 17,
   "metadata": {},
   "outputs": [],
   "source": [
    "# Write some code (call code method)"
   ]
  },
  {
   "cell_type": "code",
   "execution_count": 18,
   "metadata": {},
   "outputs": [],
   "source": [
    "# Give the dev employee a raise"
   ]
  },
  {
   "cell_type": "markdown",
   "metadata": {},
   "source": [
    "#### Exercise 2 - Importing Modules"
   ]
  },
  {
   "cell_type": "markdown",
   "metadata": {},
   "source": [
    "In VS Code, create a module titled `geometry` and add two functions in there. One that will calculate the area of a circle given a radius. The second will find the hypotenuse of a right angle given the two sides. Import the module or the functions from the module and use it to find the answers to the below questions"
   ]
  },
  {
   "cell_type": "markdown",
   "metadata": {},
   "source": [
    "What is the area of a circle with a radius of 7cm?"
   ]
  },
  {
   "cell_type": "code",
   "execution_count": null,
   "metadata": {},
   "outputs": [],
   "source": []
  },
  {
   "cell_type": "markdown",
   "metadata": {},
   "source": [
    "What is the hypotenuse of a right angle with sides of 3in and 4in?"
   ]
  },
  {
   "cell_type": "code",
   "execution_count": null,
   "metadata": {},
   "outputs": [],
   "source": []
  }
 ],
 "metadata": {
  "kernelspec": {
   "display_name": "Python 3 (ipykernel)",
   "language": "python",
   "name": "python3"
  },
  "language_info": {
   "codemirror_mode": {
    "name": "ipython",
    "version": 3
   },
   "file_extension": ".py",
   "mimetype": "text/x-python",
   "name": "python",
   "nbconvert_exporter": "python",
   "pygments_lexer": "ipython3",
   "version": "3.11.6"
  }
 },
 "nbformat": 4,
 "nbformat_minor": 4
}
